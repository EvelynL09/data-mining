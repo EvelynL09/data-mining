{
  "nbformat": 4,
  "nbformat_minor": 0,
  "metadata": {
    "kernelspec": {
      "display_name": "Python 3 (system-wide)",
      "language": "python",
      "metadata": {
        "cocalc": {
          "description": "Python 3 programming language",
          "priority": 100,
          "url": "https://www.python.org/"
        }
      },
      "name": "python3"
    },
    "language_info": {
      "codemirror_mode": {
        "name": "ipython",
        "version": 3
      },
      "file_extension": ".py",
      "mimetype": "text/x-python",
      "name": "python",
      "nbconvert_exporter": "python",
      "pygments_lexer": "ipython3",
      "version": "3.6.8"
    },
    "colab": {
      "name": "classifier.ipynb",
      "provenance": [],
      "include_colab_link": true
    }
  },
  "cells": [
    {
      "cell_type": "markdown",
      "metadata": {
        "id": "view-in-github",
        "colab_type": "text"
      },
      "source": [
        "<a href=\"https://colab.research.google.com/github/EvelynL09/data-mining/blob/master/prediction.ipynb\" target=\"_parent\"><img src=\"https://colab.research.google.com/assets/colab-badge.svg\" alt=\"Open In Colab\"/></a>"
      ]
    },
    {
      "cell_type": "code",
      "metadata": {
        "id": "ddPKMNkRz_KS",
        "colab_type": "code",
        "outputId": "b3a5f2a4-c5b6-4e23-dcf2-5ca0a1ff1fdf",
        "colab": {
          "base_uri": "https://localhost:8080/",
          "height": 315
        }
      },
      "source": [
        "!pip install surprise"
        kaggle competitions download -c uclacs145fall2019
      ],
      "execution_count": 1,
      "outputs": [
        {
          "output_type": "stream",
          "text": [
            "Collecting surprise\n",
            "  Downloading https://files.pythonhosted.org/packages/61/de/e5cba8682201fcf9c3719a6fdda95693468ed061945493dea2dd37c5618b/surprise-0.1-py2.py3-none-any.whl\n",
            "Collecting scikit-surprise\n",
            "\u001b[?25l  Downloading https://files.pythonhosted.org/packages/f5/da/b5700d96495fb4f092be497f02492768a3d96a3f4fa2ae7dea46d4081cfa/scikit-surprise-1.1.0.tar.gz (6.4MB)\n",
            "\u001b[K     |████████████████████████████████| 6.5MB 2.8MB/s \n",
            "\u001b[?25hRequirement already satisfied: joblib>=0.11 in /usr/local/lib/python3.6/dist-packages (from scikit-surprise->surprise) (0.14.0)\n",
            "Requirement already satisfied: numpy>=1.11.2 in /usr/local/lib/python3.6/dist-packages (from scikit-surprise->surprise) (1.17.4)\n",
            "Requirement already satisfied: scipy>=1.0.0 in /usr/local/lib/python3.6/dist-packages (from scikit-surprise->surprise) (1.3.3)\n",
            "Requirement already satisfied: six>=1.10.0 in /usr/local/lib/python3.6/dist-packages (from scikit-surprise->surprise) (1.12.0)\n",
            "Building wheels for collected packages: scikit-surprise\n",
            "  Building wheel for scikit-surprise (setup.py) ... \u001b[?25l\u001b[?25hdone\n",
            "  Created wheel for scikit-surprise: filename=scikit_surprise-1.1.0-cp36-cp36m-linux_x86_64.whl size=1678211 sha256=ed0344a2be765bc0be6f2be48d52bb621e7f229151b2a3ab0529672fe4d496d6\n",
            "  Stored in directory: /root/.cache/pip/wheels/cc/fa/8c/16c93fccce688ae1bde7d979ff102f7bee980d9cfeb8641bcf\n",
            "Successfully built scikit-surprise\n",
            "Installing collected packages: scikit-surprise, surprise\n",
            "Successfully installed scikit-surprise-1.1.0 surprise-0.1\n"
          ],
          "name": "stdout"
        }
      ]
    },
    {
      "cell_type": "code",
      "metadata": {
        "id": "07f4QlpB_lhB",
        "colab_type": "code",
        "colab": {}
      },
      "source": [
        "import sklearn\n",
        "import surprise\n",
        "import numpy as np\n",
        "import pandas as pd"
      ],
      "execution_count": 0,
      "outputs": []
    },
    {
      "cell_type": "code",
      "metadata": {
        "id": "9WkF0jSD_lhF",
        "colab_type": "code",
        "colab": {}
      },
      "source": [
        "movies_raw = pd.read_csv('movies.csv')"
      ],
      "execution_count": 0,
      "outputs": []
    },
    {
      "cell_type": "code",
      "metadata": {
        "id": "wk4Dqwep_lhL",
        "colab_type": "code",
        "colab": {}
      },
      "source": [
        "val_raw = pd.read_csv('val_ratings_binary.csv')"
      ],
      "execution_count": 0,
      "outputs": []
    },
    {
      "cell_type": "code",
      "metadata": {
        "id": "qtuAwEQw_lhO",
        "colab_type": "code",
        "colab": {}
      },
      "source": [
        "test = pd.read_csv('test_ratings.csv')"
      ],
      "execution_count": 0,
      "outputs": []
    },
    {
      "cell_type": "code",
      "metadata": {
        "id": "m1M91gid_lhQ",
        "colab_type": "code",
        "colab": {}
      },
      "source": [
        "movies = movies_raw[['movieId','genres']]"
      ],
      "execution_count": 0,
      "outputs": []
    },
    {
      "cell_type": "code",
      "metadata": {
        "id": "Mq80Aq1-_lhS",
        "colab_type": "code",
        "colab": {}
      },
      "source": [
        "def separateGenres(df_old):\n",
        "    df_new = pd.DataFrame(columns = ['mid','genre'])\n",
        "    ind = 0\n",
        "    end = len(df_old.index)\n",
        "    while ind < end:\n",
        "        id = df_old['movieId'][ind]\n",
        "        gen_list = df_old['genres'][ind].split('|')\n",
        "        data = {'mid': np.repeat(id,len(gen_list)), 'genre': gen_list}\n",
        "        df_add = pd.DataFrame(data)\n",
        "        df_new = pd.concat([df_new,df_add],ignore_index=True)\n",
        "        ind += 1\n",
        "    return df_new"
      ],
      "execution_count": 0,
      "outputs": []
    },
    {
      "cell_type": "code",
      "metadata": {
        "id": "fE6cs9Uy_lhU",
        "colab_type": "code",
        "colab": {}
      },
      "source": [
        "genres = separateGenres(movies)\n"
      ],
      "execution_count": 0,
      "outputs": []
    },
    {
      "cell_type": "code",
      "metadata": {
        "id": "yMjNX1_A_lhX",
        "colab_type": "code",
        "colab": {}
      },
      "source": [
        "genres.to_csv('genres.csv')"
      ],
      "execution_count": 0,
      "outputs": []
    },
    {
      "cell_type": "code",
      "metadata": {
        "id": "vsKoGKO4_lhY",
        "colab_type": "code",
        "colab": {}
      },
      "source": [
        "from surprise.dataset import Dataset\n",
        "from surprise.reader import Reader\n",
        "from surprise.prediction_algorithms.matrix_factorization import SVD\n",
        "from surprise.model_selection import cross_validate\n",
        "from surprise.model_selection import KFold, PredefinedKFold\n",
        "from sklearn.metrics import roc_auc_score\n",
        "\n",
        "from surprise import SVDpp, SlopeOne, NMF, NormalPredictor, KNNBaseline, KNNBasic, KNNWithMeans, KNNWithZScore, BaselineOnly, CoClustering"
      ],
      "execution_count": 0,
      "outputs": []
    },
    {
      "cell_type": "code",
      "metadata": {
        "id": "wk4mjqlY_lha",
        "colab_type": "code",
        "colab": {}
      },
      "source": [
        "reader = Reader(rating_scale=[0,1],skip_lines=1,sep=',') #set params for reading in file"
      ],
      "execution_count": 0,
      "outputs": []
    },
    {
      "cell_type": "code",
      "metadata": {
        "id": "Jz-WwqCP_lhc",
        "colab_type": "code",
        "colab": {}
      },
      "source": [
        "data = Dataset.load_from_file('train_ratings_binary.csv',reader)"
      ],
      "execution_count": 0,
      "outputs": []
    },
    {
      "cell_type": "code",
      "metadata": {
        "id": "Gmj9z5vg58vD",
        "colab_type": "code",
        "colab": {}
      },
      "source": [
        "benchmark = []\n",
        "# Iterate over all algorithms\n",
        "for algorithm in [SVD(), SVDpp(), SlopeOne(), NMF(), NormalPredictor(), KNNBaseline(), KNNBasic(), KNNWithMeans(), KNNWithZScore(), BaselineOnly(), CoClustering()]:\n",
        "    # Perform cross validation\n",
        "    results = cross_validate(algorithm, data, measures=['RMSE'], cv=3, verbose=False)\n",
        "    \n",
        "    # Get results & append algorithm name\n",
        "    tmp = pd.DataFrame.from_dict(results).mean(axis=0)\n",
        "    tmp = tmp.append(pd.Series([str(algorithm).split(' ')[0].split('.')[-1]], index=['Algorithm']))\n",
        "    benchmark.append(tmp)\n",
        "    \n",
        "pd.DataFrame(benchmark).set_index('Algorithm').sort_values('test_rmse') "
      ],
      "execution_count": 0,
      "outputs": []
    },
    {
      "cell_type": "code",
      "metadata": {
        "scrolled": true,
        "id": "QET0I4Pv_lhi",
        "colab_type": "code",
        "outputId": "a2818f23-0d57-4006-c18e-41f91ad57713",
        "colab": {
          "base_uri": "https://localhost:8080/",
          "height": 69
        }
      },
      "source": [
        "# use cross validation to come up with AUC score in order to select best model\n",
        "nfold = 2\n",
        "kf = KFold(n_splits = nfold,shuffle=True)\n",
        "auc = []\n",
        "\n",
        "# model = SVD()\n",
        "for model in [SVD(), SVDpp(), SlopeOne(), NMF(), NormalPredictor(), KNNBaseline(), KNNBasic(), KNNWithMeans(), KNNWithZScore(), BaselineOnly(), CoClustering()]:\n",
        "  print(str(model))\n",
        "  for trainset, testset in kf.split(data):\n",
        "    model.fit(trainset)\n",
        "    pred = model.test(testset)\n",
        "\n",
        "    ytrue = [x[2] for x in testset]\n",
        "    ypred = [int(round(pred[x].est)) for x in range(len(pred))]\n",
        "    # print(ypred[0:100])\n",
        "\n",
        "    auc += [roc_auc_score(ytrue,ypred)]\n",
        "  print(np.mean(auc))"
      ],
      "execution_count": 0,
      "outputs": [
        {
          "output_type": "stream",
          "text": [
            "<surprise.prediction_algorithms.matrix_factorization.SVD object at 0x7fe6f5f20fd0>\n",
            "0.7222164364515866\n",
            "<surprise.prediction_algorithms.matrix_factorization.SVDpp object at 0x7fe6f5f20f28>\n"
          ],
          "name": "stdout"
        }
      ]
    },
    {
      "cell_type": "code",
      "metadata": {
        "id": "GhzJVkcj_lhl",
        "colab_type": "code",
        "colab": {}
      },
      "source": [
        "#add a column to the test df as a placeholder for ratings so that SVD alg will be happy\n",
        "test_raw = pd.read_csv('data/test_ratings.csv')\n",
        "ratings0 = {'rating': np.zeros(len(test_raw.index))}\n",
        "df_add = pd.DataFrame(ratings0)\n",
        "test_df = pd.concat([test_raw,df_add],axis=1)\n",
        "test_df.to_csv('test_df.csv',index=False)"
      ],
      "execution_count": 0,
      "outputs": []
    },
    {
      "cell_type": "code",
      "metadata": {
        "scrolled": true,
        "id": "HXMR4_As_lhm",
        "colab_type": "code",
        "colab": {}
      },
      "source": [
        "#fit model with trainset and predict testset values\n",
        "model = SVD()\n",
        "folds_files = [('data/train_ratings_binary.csv','test_df.csv')]\n",
        "data = Dataset.load_from_folds(folds_files, reader=reader)\n",
        "pkf = PredefinedKFold()\n",
        "\n",
        "for trainset, testset in pkf.split(data):\n",
        "    model.fit(trainset)\n",
        "    pred = model.test(testset)\n",
        "    ytrue = [x[2] for x in testset]\n",
        "\n",
        "    ypred = [int(round(pred[x].est)) for x in range(len(pred))] #pred has fields with est being the estimated rating, a decimal b/n 0 and 1\n",
        "\n",
        "    auc = roc_auc_score(ytrue,ypred)\n",
        "\n",
        "# print(ypred)\n",
        "print(auc)"
      ],
      "execution_count": 0,
      "outputs": []
    },
    {
      "cell_type": "code",
      "metadata": {
        "id": "_bWdoMsI_lho",
        "colab_type": "code",
        "cellView": "code",
        "outputId": "d3144a12-9fc6-4e77-894d-8e7690a9f955",
        "colab": {}
      },
      "source": [
        "submit"
      ],
      "execution_count": 0,
      "outputs": [
        {
          "output_type": "execute_result",
          "data": {
            "text/html": [
              "<div>\n",
              "<style scoped>\n",
              "    .dataframe tbody tr th:only-of-type {\n",
              "        vertical-align: middle;\n",
              "    }\n",
              "\n",
              "    .dataframe tbody tr th {\n",
              "        vertical-align: top;\n",
              "    }\n",
              "\n",
              "    .dataframe thead th {\n",
              "        text-align: right;\n",
              "    }\n",
              "</style>\n",
              "<table border=\"1\" class=\"dataframe\">\n",
              "  <thead>\n",
              "    <tr style=\"text-align: right;\">\n",
              "      <th></th>\n",
              "      <th>Id</th>\n",
              "      <th>rating</th>\n",
              "    </tr>\n",
              "  </thead>\n",
              "  <tbody>\n",
              "    <tr>\n",
              "      <th>0</th>\n",
              "      <td>0</td>\n",
              "      <td>1</td>\n",
              "    </tr>\n",
              "    <tr>\n",
              "      <th>1</th>\n",
              "      <td>1</td>\n",
              "      <td>1</td>\n",
              "    </tr>\n",
              "    <tr>\n",
              "      <th>2</th>\n",
              "      <td>2</td>\n",
              "      <td>1</td>\n",
              "    </tr>\n",
              "    <tr>\n",
              "      <th>3</th>\n",
              "      <td>3</td>\n",
              "      <td>1</td>\n",
              "    </tr>\n",
              "    <tr>\n",
              "      <th>4</th>\n",
              "      <td>4</td>\n",
              "      <td>0</td>\n",
              "    </tr>\n",
              "    <tr>\n",
              "      <th>...</th>\n",
              "      <td>...</td>\n",
              "      <td>...</td>\n",
              "    </tr>\n",
              "    <tr>\n",
              "      <th>4054446</th>\n",
              "      <td>4054446</td>\n",
              "      <td>1</td>\n",
              "    </tr>\n",
              "    <tr>\n",
              "      <th>4054447</th>\n",
              "      <td>4054447</td>\n",
              "      <td>1</td>\n",
              "    </tr>\n",
              "    <tr>\n",
              "      <th>4054448</th>\n",
              "      <td>4054448</td>\n",
              "      <td>1</td>\n",
              "    </tr>\n",
              "    <tr>\n",
              "      <th>4054449</th>\n",
              "      <td>4054449</td>\n",
              "      <td>1</td>\n",
              "    </tr>\n",
              "    <tr>\n",
              "      <th>4054450</th>\n",
              "      <td>4054450</td>\n",
              "      <td>1</td>\n",
              "    </tr>\n",
              "  </tbody>\n",
              "</table>\n",
              "<p>4054451 rows × 2 columns</p>\n",
              "</div>"
            ],
            "text/plain": [
              "              Id  rating\n",
              "0              0       1\n",
              "1              1       1\n",
              "2              2       1\n",
              "3              3       1\n",
              "4              4       0\n",
              "...          ...     ...\n",
              "4054446  4054446       1\n",
              "4054447  4054447       1\n",
              "4054448  4054448       1\n",
              "4054449  4054449       1\n",
              "4054450  4054450       1\n",
              "\n",
              "[4054451 rows x 2 columns]"
            ]
          },
          "metadata": {
            "tags": []
          },
          "execution_count": 21
        }
      ]
    },
    {
      "cell_type": "code",
      "metadata": {
        "scrolled": true,
        "id": "mLbhFRMP_lhq",
        "colab_type": "code",
        "outputId": "f291fd84-d863-48cd-97d1-9e4f009279e6",
        "colab": {}
      },
      "source": [
        "sum(ypred)"
      ],
      "execution_count": 0,
      "outputs": [
        {
          "output_type": "execute_result",
          "data": {
            "text/plain": [
              "1997757"
            ]
          },
          "metadata": {
            "tags": []
          },
          "execution_count": 24
        }
      ]
    },
    {
      "cell_type": "code",
      "metadata": {
        "scrolled": true,
        "id": "O0T5y5TL_lhs",
        "colab_type": "code",
        "outputId": "b8ecd8d3-d659-4df7-eddf-873485e1d5d0",
        "colab": {
          "base_uri": "https://localhost:8080/",
          "height": 415
        }
      },
      "source": [
        "submit_dict = {'Id': list(range(0,len(ypred))), 'rating': ypred}\n",
        "submit = pd.DataFrame(submit_dict)\n",
        "#submit = submit.set_index(pd.Index(list(range(1,len(ypred)+1)))) #trying to make index match the example file... I think taking this line out fixed the initial bug?\n",
        "submit"
      ],
      "execution_count": 0,
      "outputs": [
        {
          "output_type": "execute_result",
          "data": {
            "text/html": [
              "<div>\n",
              "<style scoped>\n",
              "    .dataframe tbody tr th:only-of-type {\n",
              "        vertical-align: middle;\n",
              "    }\n",
              "\n",
              "    .dataframe tbody tr th {\n",
              "        vertical-align: top;\n",
              "    }\n",
              "\n",
              "    .dataframe thead th {\n",
              "        text-align: right;\n",
              "    }\n",
              "</style>\n",
              "<table border=\"1\" class=\"dataframe\">\n",
              "  <thead>\n",
              "    <tr style=\"text-align: right;\">\n",
              "      <th></th>\n",
              "      <th>Id</th>\n",
              "      <th>rating</th>\n",
              "    </tr>\n",
              "  </thead>\n",
              "  <tbody>\n",
              "    <tr>\n",
              "      <th>0</th>\n",
              "      <td>0</td>\n",
              "      <td>1</td>\n",
              "    </tr>\n",
              "    <tr>\n",
              "      <th>1</th>\n",
              "      <td>1</td>\n",
              "      <td>1</td>\n",
              "    </tr>\n",
              "    <tr>\n",
              "      <th>2</th>\n",
              "      <td>2</td>\n",
              "      <td>1</td>\n",
              "    </tr>\n",
              "    <tr>\n",
              "      <th>3</th>\n",
              "      <td>3</td>\n",
              "      <td>1</td>\n",
              "    </tr>\n",
              "    <tr>\n",
              "      <th>4</th>\n",
              "      <td>4</td>\n",
              "      <td>0</td>\n",
              "    </tr>\n",
              "    <tr>\n",
              "      <th>...</th>\n",
              "      <td>...</td>\n",
              "      <td>...</td>\n",
              "    </tr>\n",
              "    <tr>\n",
              "      <th>573688</th>\n",
              "      <td>573688</td>\n",
              "      <td>1</td>\n",
              "    </tr>\n",
              "    <tr>\n",
              "      <th>573689</th>\n",
              "      <td>573689</td>\n",
              "      <td>1</td>\n",
              "    </tr>\n",
              "    <tr>\n",
              "      <th>573690</th>\n",
              "      <td>573690</td>\n",
              "      <td>1</td>\n",
              "    </tr>\n",
              "    <tr>\n",
              "      <th>573691</th>\n",
              "      <td>573691</td>\n",
              "      <td>1</td>\n",
              "    </tr>\n",
              "    <tr>\n",
              "      <th>573692</th>\n",
              "      <td>573692</td>\n",
              "      <td>0</td>\n",
              "    </tr>\n",
              "  </tbody>\n",
              "</table>\n",
              "<p>573693 rows × 2 columns</p>\n",
              "</div>"
            ],
            "text/plain": [
              "            Id  rating\n",
              "0            0       1\n",
              "1            1       1\n",
              "2            2       1\n",
              "3            3       1\n",
              "4            4       0\n",
              "...        ...     ...\n",
              "573688  573688       1\n",
              "573689  573689       1\n",
              "573690  573690       1\n",
              "573691  573691       1\n",
              "573692  573692       0\n",
              "\n",
              "[573693 rows x 2 columns]"
            ]
          },
          "metadata": {
            "tags": []
          },
          "execution_count": 15
        }
      ]
    },
    {
      "cell_type": "code",
      "metadata": {
        "id": "4nSw9QO__lhv",
        "colab_type": "code",
        "colab": {}
      },
      "source": [
        "submit.to_csv('submit.csv',index=False)"
      ],
      "execution_count": 0,
      "outputs": []
    },
    {
      "cell_type": "code",
      "metadata": {
        "id": "9fkRk41F_lhy",
        "colab_type": "code",
        "outputId": "003bd99f-b4c4-4af8-f9dc-b2bbc439eb94",
        "colab": {}
      },
      "source": [
        "tags_raw"
      ],
      "execution_count": 0,
      "outputs": [
        {
          "output_type": "execute_result",
          "data": {
            "text/html": [
              "<div>\n",
              "<style scoped>\n",
              "    .dataframe tbody tr th:only-of-type {\n",
              "        vertical-align: middle;\n",
              "    }\n",
              "\n",
              "    .dataframe tbody tr th {\n",
              "        vertical-align: top;\n",
              "    }\n",
              "\n",
              "    .dataframe thead th {\n",
              "        text-align: right;\n",
              "    }\n",
              "</style>\n",
              "<table border=\"1\" class=\"dataframe\">\n",
              "  <thead>\n",
              "    <tr style=\"text-align: right;\">\n",
              "      <th></th>\n",
              "      <th>tagId</th>\n",
              "      <th>tag</th>\n",
              "    </tr>\n",
              "  </thead>\n",
              "  <tbody>\n",
              "    <tr>\n",
              "      <th>0</th>\n",
              "      <td>1</td>\n",
              "      <td>007</td>\n",
              "    </tr>\n",
              "    <tr>\n",
              "      <th>1</th>\n",
              "      <td>2</td>\n",
              "      <td>007 (series)</td>\n",
              "    </tr>\n",
              "    <tr>\n",
              "      <th>2</th>\n",
              "      <td>3</td>\n",
              "      <td>18th century</td>\n",
              "    </tr>\n",
              "    <tr>\n",
              "      <th>3</th>\n",
              "      <td>4</td>\n",
              "      <td>1920s</td>\n",
              "    </tr>\n",
              "    <tr>\n",
              "      <th>4</th>\n",
              "      <td>5</td>\n",
              "      <td>1930s</td>\n",
              "    </tr>\n",
              "    <tr>\n",
              "      <th>...</th>\n",
              "      <td>...</td>\n",
              "      <td>...</td>\n",
              "    </tr>\n",
              "    <tr>\n",
              "      <th>1123</th>\n",
              "      <td>1124</td>\n",
              "      <td>writing</td>\n",
              "    </tr>\n",
              "    <tr>\n",
              "      <th>1124</th>\n",
              "      <td>1125</td>\n",
              "      <td>wuxia</td>\n",
              "    </tr>\n",
              "    <tr>\n",
              "      <th>1125</th>\n",
              "      <td>1126</td>\n",
              "      <td>wwii</td>\n",
              "    </tr>\n",
              "    <tr>\n",
              "      <th>1126</th>\n",
              "      <td>1127</td>\n",
              "      <td>zombie</td>\n",
              "    </tr>\n",
              "    <tr>\n",
              "      <th>1127</th>\n",
              "      <td>1128</td>\n",
              "      <td>zombies</td>\n",
              "    </tr>\n",
              "  </tbody>\n",
              "</table>\n",
              "<p>1128 rows × 2 columns</p>\n",
              "</div>"
            ],
            "text/plain": [
              "      tagId           tag\n",
              "0         1           007\n",
              "1         2  007 (series)\n",
              "2         3  18th century\n",
              "3         4         1920s\n",
              "4         5         1930s\n",
              "...     ...           ...\n",
              "1123   1124       writing\n",
              "1124   1125         wuxia\n",
              "1125   1126          wwii\n",
              "1126   1127        zombie\n",
              "1127   1128       zombies\n",
              "\n",
              "[1128 rows x 2 columns]"
            ]
          },
          "metadata": {
            "tags": []
          },
          "execution_count": 13
        }
      ]
    },
    {
      "cell_type": "code",
      "metadata": {
        "scrolled": true,
        "id": "ukAFQ3f4_lh1",
        "colab_type": "code",
        "outputId": "dd9d2eb3-19a8-4250-a0b9-ff52df21a415",
        "colab": {}
      },
      "source": [
        "scores_raw"
      ],
      "execution_count": 0,
      "outputs": [
        {
          "output_type": "execute_result",
          "data": {
            "text/html": [
              "<div>\n",
              "<style scoped>\n",
              "    .dataframe tbody tr th:only-of-type {\n",
              "        vertical-align: middle;\n",
              "    }\n",
              "\n",
              "    .dataframe tbody tr th {\n",
              "        vertical-align: top;\n",
              "    }\n",
              "\n",
              "    .dataframe thead th {\n",
              "        text-align: right;\n",
              "    }\n",
              "</style>\n",
              "<table border=\"1\" class=\"dataframe\">\n",
              "  <thead>\n",
              "    <tr style=\"text-align: right;\">\n",
              "      <th></th>\n",
              "      <th>movieId</th>\n",
              "      <th>tagId</th>\n",
              "      <th>relevance</th>\n",
              "    </tr>\n",
              "  </thead>\n",
              "  <tbody>\n",
              "    <tr>\n",
              "      <th>0</th>\n",
              "      <td>1</td>\n",
              "      <td>1</td>\n",
              "      <td>0.02500</td>\n",
              "    </tr>\n",
              "    <tr>\n",
              "      <th>1</th>\n",
              "      <td>1</td>\n",
              "      <td>2</td>\n",
              "      <td>0.02500</td>\n",
              "    </tr>\n",
              "    <tr>\n",
              "      <th>2</th>\n",
              "      <td>1</td>\n",
              "      <td>3</td>\n",
              "      <td>0.05775</td>\n",
              "    </tr>\n",
              "    <tr>\n",
              "      <th>3</th>\n",
              "      <td>1</td>\n",
              "      <td>4</td>\n",
              "      <td>0.09675</td>\n",
              "    </tr>\n",
              "    <tr>\n",
              "      <th>4</th>\n",
              "      <td>1</td>\n",
              "      <td>5</td>\n",
              "      <td>0.14675</td>\n",
              "    </tr>\n",
              "    <tr>\n",
              "      <th>...</th>\n",
              "      <td>...</td>\n",
              "      <td>...</td>\n",
              "      <td>...</td>\n",
              "    </tr>\n",
              "    <tr>\n",
              "      <th>11709763</th>\n",
              "      <td>131170</td>\n",
              "      <td>1124</td>\n",
              "      <td>0.58775</td>\n",
              "    </tr>\n",
              "    <tr>\n",
              "      <th>11709764</th>\n",
              "      <td>131170</td>\n",
              "      <td>1125</td>\n",
              "      <td>0.01075</td>\n",
              "    </tr>\n",
              "    <tr>\n",
              "      <th>11709765</th>\n",
              "      <td>131170</td>\n",
              "      <td>1126</td>\n",
              "      <td>0.01575</td>\n",
              "    </tr>\n",
              "    <tr>\n",
              "      <th>11709766</th>\n",
              "      <td>131170</td>\n",
              "      <td>1127</td>\n",
              "      <td>0.11450</td>\n",
              "    </tr>\n",
              "    <tr>\n",
              "      <th>11709767</th>\n",
              "      <td>131170</td>\n",
              "      <td>1128</td>\n",
              "      <td>0.02175</td>\n",
              "    </tr>\n",
              "  </tbody>\n",
              "</table>\n",
              "<p>11709768 rows × 3 columns</p>\n",
              "</div>"
            ],
            "text/plain": [
              "          movieId  tagId  relevance\n",
              "0               1      1    0.02500\n",
              "1               1      2    0.02500\n",
              "2               1      3    0.05775\n",
              "3               1      4    0.09675\n",
              "4               1      5    0.14675\n",
              "...           ...    ...        ...\n",
              "11709763   131170   1124    0.58775\n",
              "11709764   131170   1125    0.01075\n",
              "11709765   131170   1126    0.01575\n",
              "11709766   131170   1127    0.11450\n",
              "11709767   131170   1128    0.02175\n",
              "\n",
              "[11709768 rows x 3 columns]"
            ]
          },
          "metadata": {
            "tags": []
          },
          "execution_count": 14
        }
      ]
    },
    {
      "cell_type": "code",
      "metadata": {
        "id": "hlk4MbaL_lh4",
        "colab_type": "code",
        "colab": {}
      },
      "source": [
        "#tags asssociated with each genre - multiple possible\n",
        "#how many times absolutely tag appears\n",
        "#proportion of each genre for each tag\n",
        "#what coefficient each user gave for each genre based on their list of tags\n",
        "#weights? first mean to come up with coefficient for movie\n",
        "#then try assumption of more movies -> higher weight\n",
        "#considering their genres??"
      ],
      "execution_count": 0,
      "outputs": []
    }
  ]
}
